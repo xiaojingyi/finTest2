{
 "metadata": {
  "name": "",
  "signature": "sha256:b3f4af5ba8218b9ccbc678748f5871eaa83d40560a60f8c3013ff1566f55f70e"
 },
 "nbformat": 3,
 "nbformat_minor": 0,
 "worksheets": [
  {
   "cells": [
    {
     "cell_type": "code",
     "collapsed": false,
     "input": [
      "import tensorflow as tf\n",
      "import numpy as np\n",
      "import h5py\n",
      "import random\n",
      "print(tf.__version__)"
     ],
     "language": "python",
     "metadata": {},
     "outputs": [
      {
       "output_type": "stream",
       "stream": "stdout",
       "text": [
        "0.10.0rc0\n"
       ]
      }
     ],
     "prompt_number": 1
    },
    {
     "cell_type": "code",
     "collapsed": false,
     "input": [
      "def loadH5(fname):\n",
      "    with h5py.File(fname, 'r') as f:\n",
      "        X = f['data'][:]\n",
      "        X = np.array(X).astype(np.float32)\n",
      "        y = f['label'][:]\n",
      "        y = np.array(y).astype(np.float32)\n",
      "        y_ = f['realy'][:]\n",
      "        y_ = np.array(y_).astype(np.float32)\n",
      "    return X, y, y_"
     ],
     "language": "python",
     "metadata": {},
     "outputs": [],
     "prompt_number": 2
    },
    {
     "cell_type": "code",
     "collapsed": false,
     "input": [
      "X, y, y_ = loadH5(\"./caffe/data_0.h5\")\n",
      "Xt, y, y_ = loadH5(\"./caffe/data_1.h5\")\n",
      "bsize = 256"
     ],
     "language": "python",
     "metadata": {},
     "outputs": [],
     "prompt_number": 3
    },
    {
     "cell_type": "code",
     "collapsed": false,
     "input": [
      "X = X/100000.\n",
      "print X.shape, Xt.shape\n",
      "print X"
     ],
     "language": "python",
     "metadata": {},
     "outputs": [
      {
       "output_type": "stream",
       "stream": "stdout",
       "text": [
        "(5052451,) (1263113,)\n",
        "[ 5.90850019  5.90700006  5.90299988 ...,  6.55994987  6.55835009\n",
        "  6.55805016]\n"
       ]
      }
     ],
     "prompt_number": 4
    },
    {
     "cell_type": "code",
     "collapsed": false,
     "input": [
      "sess = tf.InteractiveSession()\n",
      "tf.device(\"/gpu:1\")"
     ],
     "language": "python",
     "metadata": {},
     "outputs": [
      {
       "metadata": {},
       "output_type": "pyout",
       "prompt_number": 5,
       "text": [
        "<contextlib.GeneratorContextManager at 0x7f03e38f5710>"
       ]
      }
     ],
     "prompt_number": 5
    },
    {
     "cell_type": "code",
     "collapsed": false,
     "input": [
      "input_st = tf.placeholder(tf.float32, [bsize, 1024, 1, 1])\n",
      "with tf.variable_scope(\"ae\"):\n",
      "    cw1 = tf.get_variable(\"cw1\", [17, 1, 1, 64], \n",
      "                          initializer=tf.contrib.layers.xavier_initializer_conv2d())\n",
      "    cb1 = tf.get_variable(\"cb1\", [64], initializer=tf.constant_initializer(0.1))\n",
      "    c1 = tf.nn.relu(tf.nn.conv2d(\n",
      "        input_st, cw1, \n",
      "        strides=[1, 2, 1, 1], \n",
      "        padding='SAME') + cb1)\n",
      "    \n",
      "    cw2 = tf.get_variable(\"cw2\", [4, 1, 64, 32], \n",
      "                          initializer=tf.contrib.layers.xavier_initializer_conv2d())\n",
      "    cb2 = tf.get_variable(\"cb2\", [32], initializer=tf.constant_initializer(0.1))\n",
      "    c2 = tf.nn.relu(tf.nn.conv2d(\n",
      "         c1, cw2, \n",
      "         strides=[1, 2, 1, 1], \n",
      "         padding='SAME') + cb2)\n",
      "    \n",
      "    cw3 = tf.get_variable(\"cw3\", [4, 1, 32, 16], \n",
      "                          initializer=tf.contrib.layers.xavier_initializer_conv2d())\n",
      "    cb3 = tf.get_variable(\"cb3\", [16], initializer=tf.constant_initializer(0.1))\n",
      "    c3 = tf.nn.relu(tf.nn.conv2d(\n",
      "         c2, cw3, \n",
      "         strides=[1, 2, 1, 1], \n",
      "         padding='SAME') + cb3)\n",
      "    \n",
      "    dcw3 = tf.get_variable(\"dcw3\", [4, 1, 32, 16], \n",
      "                          initializer=tf.contrib.layers.xavier_initializer_conv2d())\n",
      "    dc3 = tf.nn.conv2d_transpose(c3, dcw3, output_shape=[bsize, 256, 1, 32],\n",
      "                                strides=[1, 2, 1, 1])\n",
      "    dcb3 = tf.get_variable(\"dcb3\", [32], initializer=tf.constant_initializer(0.1))\n",
      "    dc3 = tf.reshape(tf.nn.bias_add(dc3, dcb3), dc3.get_shape())\n",
      "    \n",
      "    dcw2 = tf.get_variable(\"dcw2\", [4, 1, 64, 32], \n",
      "                          initializer=tf.contrib.layers.xavier_initializer_conv2d())\n",
      "    dc2 = tf.nn.conv2d_transpose(dc3, dcw2, output_shape=[bsize, 512, 1, 64],\n",
      "                                strides=[1, 2, 1, 1])\n",
      "    dcb2 = tf.get_variable(\"dcb2\", [64], initializer=tf.constant_initializer(0.1))\n",
      "    dc2 = tf.reshape(tf.nn.bias_add(dc2, dcb2), dc2.get_shape())\n",
      "    \n",
      "    dcw1 = tf.get_variable(\"dcw1\", [17, 1, 1, 64], \n",
      "                          initializer=tf.contrib.layers.xavier_initializer_conv2d())\n",
      "    dc1 = tf.nn.conv2d_transpose(dc2, dcw1, output_shape=[bsize, 1024, 1, 1],\n",
      "                                strides=[1, 2, 1, 1])\n",
      "    dcb1 = tf.get_variable(\"dcb1\", [1], initializer=tf.constant_initializer(0.1))\n",
      "    dc1 = tf.reshape(tf.nn.bias_add(dc1, dcb1), dc1.get_shape())\n",
      "    \n",
      "    print c1, c2, c3, dc3, dc2, dc1\n",
      "    \n",
      "    diff_ae = input_st - dc1\n",
      "    loss_ae = tf.reduce_mean(tf.square(diff))\n"
     ],
     "language": "python",
     "metadata": {},
     "outputs": [
      {
       "output_type": "stream",
       "stream": "stdout",
       "text": [
        "Tensor(\"ae/Relu:0\", shape=(256, 512, 1, 64), dtype=float32) Tensor(\"ae/Relu_1:0\", shape=(256, 256, 1, 32), dtype=float32) Tensor(\"ae/Relu_2:0\", shape=(256, 128, 1, 16), dtype=float32) Tensor(\"ae/Reshape:0\", shape=(256, 256, 1, 32), dtype=float32) Tensor(\"ae/Reshape_1:0\", shape=(256, 512, 1, 64), dtype=float32) Tensor(\"ae/Reshape_2:0\", shape=(256, 1024, 1, 1), dtype=float32)\n"
       ]
      }
     ],
     "prompt_number": 6
    },
    {
     "cell_type": "code",
     "collapsed": false,
     "input": [
      "print c3.get_shape()"
     ],
     "language": "python",
     "metadata": {},
     "outputs": [
      {
       "output_type": "stream",
       "stream": "stdout",
       "text": [
        "(?, 128, 1, 16)\n"
       ]
      }
     ],
     "prompt_number": 7
    },
    {
     "cell_type": "code",
     "collapsed": false,
     "input": [
      "with tf.variable_scope(\"ae\"):\n",
      "    dcw3 = tf.get_variable(\"dcw3\", [4, 1, 32, 16], \n",
      "                          initializer=tf.contrib.layers.xavier_initializer_conv2d())\n",
      "    dc1 = tf.nn.conv2d_transpose(c3, dcw3, output_shape=[bsize, 256, 1, 32],\n",
      "                                strides=[1, 2, 1, 1])\n",
      "    dcb3 = tf.get_variable(\"dcb3\", [32], initializer=tf.constant_initializer(0.1))\n",
      "    dc1 = tf.reshape(tf.nn.bias_add(dc1, dcb3), dc1.get_shape())\n",
      "    print dc1"
     ],
     "language": "python",
     "metadata": {},
     "outputs": [
      {
       "output_type": "stream",
       "stream": "stdout",
       "text": [
        "Tensor(\"ae_1/conv2d_transpose:0\", shape=(256, 256, 1, 32), dtype=float32)\n",
        "Tensor(\"ae_1/Reshape:0\", shape=(256, 256, 1, 32), dtype=float32)\n"
       ]
      }
     ],
     "prompt_number": 8
    },
    {
     "cell_type": "code",
     "collapsed": false,
     "input": [
      "dc1 = tf.nn.conv2d_transpose(c3, dcw3, output_shape=[128, 256, 1, 32],\n",
      "                                strides=[1, 2, 1, 1])\n",
      "print dc1"
     ],
     "language": "python",
     "metadata": {},
     "outputs": [
      {
       "output_type": "stream",
       "stream": "stdout",
       "text": [
        "Tensor(\"conv2d_transpose_3:0\", shape=(128, 256, 1, 32), dtype=float32)\n"
       ]
      }
     ],
     "prompt_number": 12
    },
    {
     "cell_type": "code",
     "collapsed": false,
     "input": [],
     "language": "python",
     "metadata": {},
     "outputs": []
    }
   ],
   "metadata": {}
  }
 ]
}